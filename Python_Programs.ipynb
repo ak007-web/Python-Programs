{
 "cells": [
  {
   "cell_type": "markdown",
   "id": "19a6f0e6-b414-4b3f-8bbd-a6e61f32e890",
   "metadata": {},
   "source": [
    "# Daily Python programs for practice"
   ]
  },
  {
   "cell_type": "markdown",
   "id": "e1dde60d-0f2e-492d-8010-328912802e5d",
   "metadata": {},
   "source": [
    "**Write a program which will find all such numbers which are divisible by 7 but are not a multiple of 5**\n"
   ]
  },
  {
   "cell_type": "code",
   "execution_count": null,
   "id": "a616dca7-170c-4bf8-bc36-fb91795d6a83",
   "metadata": {},
   "outputs": [],
   "source": [
    "# Taking input from user\n",
    "n=int(input(\"Enter any number (More than 7): \"))\n",
    "for i in range(1,n+1):      # For loop for taking numbers 1 to n\n",
    "    if i%7==0 and i%5!=0 :  # checking numbers which are divisible by 7 and not divisible by 5\n",
    "        print(i)"
   ]
  },
  {
   "cell_type": "markdown",
   "id": "72a01bee-e26b-49da-b034-f4aaa345db2e",
   "metadata": {},
   "source": [
    "**Write a program that accepts a sequence of whitespace separated words as input and prints the words after removing all duplicate words and sorting them alphanumerically.**"
   ]
  },
  {
   "cell_type": "code",
   "execution_count": null,
   "id": "594a4639-0a6e-4d89-bcb5-624b32eb2058",
   "metadata": {},
   "outputs": [],
   "source": [
    "n=input(\"Enter words with white spaces: \") # Taking string from user with white space\n",
    "words=n.split()                            # Spliting the words before white space\n",
    "Sorting=sorted(set(words))                  \n",
    "print(\"The words after sorting: \",Sorting)"
   ]
  },
  {
   "cell_type": "markdown",
   "id": "9ccc3432-9cb2-468a-b433-f6027a32f63a",
   "metadata": {},
   "source": [
    "**Reverse a string without using built-in functions**"
   ]
  },
  {
   "cell_type": "code",
   "execution_count": null,
   "id": "4c489e6b-a203-4eb6-92c2-25cd0e870268",
   "metadata": {},
   "outputs": [],
   "source": [
    "x=input(\"Enter a string: \")    # Taking input from user\n",
    "str=\"\"                         # Creating and empty string\n",
    "for i in x:                    # Taking single variable outside of the string\n",
    "    str=i+str                  #\n",
    "print(\"Original String: \",x)\n",
    "print(\"Reversed String: \",str)"
   ]
  },
  {
   "cell_type": "markdown",
   "id": "c0ef6360-e0b7-4040-a989-a8e5a63292d7",
   "metadata": {},
   "source": [
    "**Rotate the elements of a list (e.g., [1,2,3,4] becomes [4,1,2,3]).**"
   ]
  },
  {
   "cell_type": "code",
   "execution_count": null,
   "id": "754fe1d2-bf73-489f-9bf9-da4d2475b382",
   "metadata": {},
   "outputs": [],
   "source": [
    "a=[1,2,3,4]     # created a list with name 'a'\n",
    "b=a.pop()       # removing last element and storing it in b\n",
    "a.insert(0,b)   # inserting removed element at index 0\n",
    "print(a)        # printing new list"
   ]
  },
  {
   "cell_type": "markdown",
   "id": "9815e1b4-bff1-496a-958c-87d81378c39c",
   "metadata": {},
   "source": [
    "**Write a program to merge two dictionaries, summing the values of common keys.**"
   ]
  },
  {
   "cell_type": "code",
   "execution_count": null,
   "id": "c7292938-40a8-4fbb-b356-b890f2e98b79",
   "metadata": {},
   "outputs": [],
   "source": [
    "dict1 = {'a':1,'b':3,'c':5 }\n",
    "dict2 = {'d':2,'a':2,'c':3 }\n",
    "print(\"Dictinoary 1 : \",dict1)\n",
    "\n",
    "for key,value in dict2.items(): # extracting single single pair\n",
    "    if key in dict1:            # checking key of dict-2 in dict-1\n",
    "        dict1[key] +=value      # if yes then add value\n",
    "    else:\n",
    "        dict1[key]=value        # if no then add key and value\n",
    "\n",
    "print(\"Dictionary 2 :\",dict2)\n",
    "print(\"After adding values :\",dict1)"
   ]
  },
  {
   "cell_type": "markdown",
   "id": "b8e59cde-5942-4f9e-acce-9761752b2b61",
   "metadata": {},
   "source": [
    "**Generate the Fibonacci sequence up to n terms**"
   ]
  },
  {
   "cell_type": "code",
   "execution_count": null,
   "id": "549e61b3-ed04-425d-80ff-eefeaeb7afb5",
   "metadata": {},
   "outputs": [],
   "source": [
    "n=int(input(\"Enter any number: \"))\n",
    "a=0\n",
    "b=1\n",
    "while a<=n:\n",
    "    print(a,end=\" \")\n",
    "    a,b=b,a+b\n",
    "   \n",
    "    "
   ]
  },
  {
   "cell_type": "markdown",
   "id": "5ed62cef-a358-4bde-8853-604e92f391c8",
   "metadata": {},
   "source": [
    "**Write a program to merge two dictionaries, summing the values of common keys.**"
   ]
  },
  {
   "cell_type": "code",
   "execution_count": null,
   "id": "68d7cbca-6157-4f6d-9b76-8db7deeb07ec",
   "metadata": {},
   "outputs": [],
   "source": [
    "dict1 = {'a':1,'b':3,'c':5 }\n",
    "dict2 = {'d':2,'a':2,'c':3 }\n",
    "print(\"Dictinoary 1 : \",dict1)\n",
    "\n",
    "for key,value in dict2.items(): # extracting single single pair\n",
    "    if key in dict1:            # checking key of dict-2 in dict-1\n",
    "        dict1[key] +=value      # if yes then add value\n",
    "    else:\n",
    "        dict1[key]=value        # if no then add key and value\n",
    "\n",
    "print(\"Dictionary 2 :\",dict2)\n",
    "print(\"After adding values :\",dict1)"
   ]
  },
  {
   "cell_type": "markdown",
   "id": "278ebdbd-6da0-4d5e-8d2d-956435316696",
   "metadata": {},
   "source": [
    "**Generate the Fibonacci sequence up to n terms**"
   ]
  },
  {
   "cell_type": "code",
   "execution_count": null,
   "id": "fcf9231d-eb9f-4209-84a2-7cd755ec9501",
   "metadata": {},
   "outputs": [],
   "source": [
    "n=int(input(\"Enter any number: \"))\n",
    "a=0\n",
    "b=1\n",
    "while a<=n:\n",
    "    print(a,end=\" \")\n",
    "    a,b=b,a+b\n",
    "   \n"
   ]
  },
  {
   "cell_type": "markdown",
   "id": "4ab7b59e-f29c-40d8-ba30-622ec27baf1d",
   "metadata": {},
   "source": [
    "**Find the top 3 most common elements in a list using a dictionary.**"
   ]
  },
  {
   "cell_type": "code",
   "execution_count": 5,
   "id": "015a5992-ccc5-4ae3-81ee-a4d0bf086d52",
   "metadata": {},
   "outputs": [
    {
     "name": "stdout",
     "output_type": "stream",
     "text": [
      "Top 3 most common elements:\n",
      "Element: 1, Count: 3\n",
      "Element: 2, Count: 3\n",
      "Element: 3, Count: 2\n"
     ]
    }
   ],
   "source": [
    "n=[1,2,3,2,1,4,5,2,3,6,1]\n",
    "d={}\n",
    "for i in n:\n",
    "    if i in d:\n",
    "        d[i]=d[i]+1\n",
    "    else:\n",
    "        d[i]=1\n",
    "sorted_items=sorted(d.items(),key=lambda x:x[1],reverse=True)\n",
    "top_3=sorted_items[:3]\n",
    "print(\"Top 3 most common elements:\")\n",
    "for key, value in top_3:\n",
    "    print(f\"Element: {key}, Count: {value}\")"
   ]
  },
  {
   "cell_type": "markdown",
   "id": "b493c529-d6a7-4b16-a0c6-66414941b066",
   "metadata": {},
   "source": [
    "**Calculate the greatest common divisor (GCD) of two numbers using recursion**"
   ]
  },
  {
   "cell_type": "code",
   "execution_count": 23,
   "id": "ba3df004-11e1-4cb9-8960-7a1e5042d58a",
   "metadata": {},
   "outputs": [
    {
     "name": "stdout",
     "output_type": "stream",
     "text": [
      "the Greatest Common Divisior is:  50\n"
     ]
    }
   ],
   "source": [
    "a=50                                                       # initializing value in a\n",
    "b=800                                                      # initializing value in b\n",
    "def greatest(a,b):                                         # creating a function with name greatest and passing variables a and b\n",
    "    if b==0:                                               # checking the condition\n",
    "        return a                                           # if the condition matches then return the value in a\n",
    "    return gratest(b,a%b)                                  # until condition matches, return function, so this will swap values from a,b to b,a\n",
    "print(\"the Greatest Common Divisior is: \",greatest(a,b))   # finally we will get the greatest common divisior"
   ]
  },
  {
   "cell_type": "markdown",
   "id": "512350db-7344-4dfe-8687-ec972d2455ef",
   "metadata": {},
   "source": [
    "**Write a function to count the frequency of each character in a given string**"
   ]
  },
  {
   "cell_type": "code",
   "execution_count": 29,
   "id": "224b29ae-b27f-43ae-8fdb-fd6691540d5c",
   "metadata": {},
   "outputs": [
    {
     "name": "stdout",
     "output_type": "stream",
     "text": [
      "the Count of words in string Hello Mee is: \n",
      "key: H , count: 1\n",
      "key: e , count: 3\n",
      "key: l , count: 2\n",
      "key: o , count: 1\n",
      "key:   , count: 1\n",
      "key: M , count: 1\n"
     ]
    }
   ],
   "source": [
    "def count(n):\n",
    "    d={}\n",
    "    for i in n:\n",
    "        if i in d:\n",
    "            d[i]=d[i]+1\n",
    "        else:\n",
    "            d[i]=1\n",
    "    return d\n",
    "n=\"Hello Mee\"\n",
    "print(f\"the Count of words in string {n} is: \")\n",
    "result=count(n)\n",
    "for key,value in result.items():\n",
    "    print(f\"key: {key} , count: {value}\")"
   ]
  },
  {
   "cell_type": "code",
   "execution_count": 61,
   "id": "85917e3c-3a2e-4e11-985f-43f434ca3a1a",
   "metadata": {},
   "outputs": [
    {
     "name": "stdout",
     "output_type": "stream",
     "text": [
      "Akash\n",
      "70\n"
     ]
    }
   ],
   "source": [
    "import pandas as pd\n",
    "\n",
    "df=pd.read_csv('C:\\\\Users\\\\hp\\\\Desktop\\\\open.csv')\n",
    "for i in df:\n",
    "    print(i)"
   ]
  },
  {
   "cell_type": "markdown",
   "id": "5fa9e0c7-8896-42c6-b163-c8b4e01c6252",
   "metadata": {},
   "source": [
    "**Calculation on a dataset**"
   ]
  },
  {
   "cell_type": "code",
   "execution_count": 59,
   "id": "a25cc3cc-a641-450e-a7a0-fb8c164bee4b",
   "metadata": {},
   "outputs": [
    {
     "name": "stdout",
     "output_type": "stream",
     "text": [
      "Dataset from random selection : [23, 26, 24, 61, 15, 71, 24, 3, 88, 17, 78, 71, 50, 75, 72, 25, 65, 39, 36, 60]\n",
      "Mean: 46.15, Median: 44.5, Mode: 24\n"
     ]
    }
   ],
   "source": [
    "import random\n",
    "import statistics\n",
    "\n",
    "# Generate a random dataset of integers\n",
    "df = [random.randint(1, 100) for _ in range(20)]\n",
    "\n",
    "# Calculate mean, median, and mode\n",
    "mean = statistics.mean(df)\n",
    "median = statistics.median(df)\n",
    "mode = statistics.mode(df)\n",
    "print(\"Dataset from random selection :\",df)\n",
    "print(f\"Mean: {mean}, Median: {median}, Mode: {mode}\")"
   ]
  },
  {
   "cell_type": "markdown",
   "id": "134946ee-cb3f-4103-848f-0c3c0dde9804",
   "metadata": {},
   "source": [
    "**Write a function to calculate the BMI (Body Mass Index) and classify a person into health categories.**"
   ]
  },
  {
   "cell_type": "code",
   "execution_count": 4,
   "id": "e921bbbe-4f31-4c22-a5b1-41e85bd99e5b",
   "metadata": {},
   "outputs": [
    {
     "name": "stdin",
     "output_type": "stream",
     "text": [
      "Enter weight(kg) of a person:  80\n",
      "Enter Height(m) of a person:  1.8\n"
     ]
    },
    {
     "name": "stdout",
     "output_type": "stream",
     "text": [
      "Healthy, Keep it up\n"
     ]
    }
   ],
   "source": [
    "w=float(input(\"Enter weight(kg) of a person: \"))\n",
    "h=float(input(\"Enter Height(m) of a person: \"))\n",
    "# formula for Body Mass Index\n",
    "bmi=w/(h**2)\n",
    "\n",
    "if bmi< 18.5:\n",
    "    print(\"Under-Weight, Eat Healthy\")\n",
    "elif bmi< 25:\n",
    "    print(\"Healthy, Keep it up\")\n",
    "elif bmi< 30:\n",
    "    print(\"Over-Weight, Start Excersize\")\n",
    "else:\n",
    "    print(\"Obesity, Start Dieting\")"
   ]
  },
  {
   "cell_type": "markdown",
   "id": "4555add7-63da-4286-b1be-1b69ddf9dbff",
   "metadata": {},
   "source": [
    "**Implement a password generator with rules for length, special characters, and numbers.**"
   ]
  },
  {
   "cell_type": "code",
   "execution_count": null,
   "id": "962f40dd-b8b9-4355-a65c-6ec72515f32d",
   "metadata": {},
   "outputs": [],
   "source": []
  },
  {
   "cell_type": "code",
   "execution_count": null,
   "id": "e1300952-f63e-42ca-b325-edb8b9ace453",
   "metadata": {},
   "outputs": [],
   "source": []
  }
 ],
 "metadata": {
  "kernelspec": {
   "display_name": "Python 3 (ipykernel)",
   "language": "python",
   "name": "python3"
  },
  "language_info": {
   "codemirror_mode": {
    "name": "ipython",
    "version": 3
   },
   "file_extension": ".py",
   "mimetype": "text/x-python",
   "name": "python",
   "nbconvert_exporter": "python",
   "pygments_lexer": "ipython3",
   "version": "3.12.4"
  }
 },
 "nbformat": 4,
 "nbformat_minor": 5
}
